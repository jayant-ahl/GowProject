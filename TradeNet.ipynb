{
 "cells": [
  {
   "cell_type": "code",
   "execution_count": null,
   "metadata": {
    "collapsed": true
   },
   "outputs": [],
   "source": [
    "%matplotlib inline\n",
    "import os\n",
    "import community\n",
    "import numpy as np\n",
    "import matplotlib.pyplot as plt\n",
    "import pandas as pd\n",
    "import networkx as nx\n",
    "import math\n",
    "import json\n",
    "\n",
    "from copy import deepcopy\n",
    "from collections import defaultdict"
   ]
  },
  {
   "cell_type": "code",
   "execution_count": null,
   "metadata": {
    "collapsed": false
   },
   "outputs": [],
   "source": [
    "os.chdir('/Users/Jaynt/Documents/Acads/Globalization of Water/Project/Matrices/Raw/')"
   ]
  },
  {
   "cell_type": "code",
   "execution_count": null,
   "metadata": {
    "collapsed": true
   },
   "outputs": [],
   "source": [
    "NET_DENSITY = []\n",
    "DEGREE_DIS = []\n",
    "LINK_WEIGHT = []\n",
    "CLUST_COEFF = []\n",
    "BET_CENT = []\n",
    "ASSORT = []\n",
    "MODULARITY = []\n",
    "PARTITIONS = []\n",
    "STRENGTH = []"
   ]
  },
  {
   "cell_type": "code",
   "execution_count": null,
   "metadata": {
    "collapsed": false
   },
   "outputs": [],
   "source": [
    "# Helper function to plot Node Degree Distribution\n",
    "def plotDis(values,pl):\n",
    "    #Sort and get the index\n",
    "    xSortedInd = sorted(range(len(values)),key=lambda i:values[i], reverse=True)\n",
    "    xSortedVal = [values[i] for i in xSortedInd]\n",
    "    # Min positive value in the list\n",
    "    minPos = min(filter(lambda x: x>0, xSortedVal))             \n",
    "    pl.plot([math.log(i+1) for i in range(len(xSortedVal))],[math.log(j) if j>0 else math.log(minPos + (2e-308))\n",
    "                                                             for j in xSortedVal])"
   ]
  },
  {
   "cell_type": "code",
   "execution_count": null,
   "metadata": {
    "collapsed": true
   },
   "outputs": [],
   "source": [
    "# Name of the input file which contains the adjacency matrix for the particular year and group\n",
    "file = \"2014A.csv\""
   ]
  },
  {
   "cell_type": "code",
   "execution_count": null,
   "metadata": {
    "collapsed": false
   },
   "outputs": [],
   "source": [
    "# Read in file and create a pandas dataframe\n",
    "df = pd.read_csv(file)\n",
    "df.head()"
   ]
  },
  {
   "cell_type": "code",
   "execution_count": null,
   "metadata": {
    "collapsed": false
   },
   "outputs": [],
   "source": [
    "rowSums = list(df.apply(sum, axis=1))\n",
    "\n",
    "if 'g' in file:\n",
    "    delRowInd = [i for i,j in enumerate(rowSums) if j<10e6]\n",
    "else:\n",
    "    delRowInd = [i for i,j in enumerate(rowSums) if j<10e5]\n",
    "\n",
    "names = list(df.columns)\n",
    "mapping = {i: names[i] for i in range(len(names))}\n",
    "\n",
    "for i in delRowInd:\n",
    "    df.drop(i,inplace=True)\n",
    "df.head(5)"
   ]
  },
  {
   "cell_type": "code",
   "execution_count": null,
   "metadata": {
    "collapsed": false
   },
   "outputs": [],
   "source": [
    "delCols = [mapping[i] for i in delRowInd]\n",
    "for name in delCols:\n",
    "     df.drop(name, inplace=True, axis=1)\n",
    "df.head(5)"
   ]
  },
  {
   "cell_type": "code",
   "execution_count": null,
   "metadata": {
    "collapsed": false
   },
   "outputs": [],
   "source": [
    "# Create a dictionary of names and their indices and convert the data frame to a matrix\n",
    "df2 = deepcopy(df) #Deepcopy data frame for weighted network analysis\n",
    "df[df>0] = 1\n",
    "adjMat = df.as_matrix()\n",
    "\n",
    "#Update the names of countries and the dictionary\n",
    "names = list(df.columns)\n",
    "mapping = {i: names[i] for i in range(len(names))}"
   ]
  },
  {
   "cell_type": "code",
   "execution_count": null,
   "metadata": {
    "collapsed": false
   },
   "outputs": [],
   "source": [
    "# Create adjacency matrix unweighted and undirected for calculating betweenness centrality\n",
    "newMat = np.zeros((len(adjMat), len(adjMat)))\n",
    "for i in range(len(adjMat)):\n",
    "        for j in range(len(adjMat)):\n",
    "            if adjMat[i, j] == 1 or adjMat[j, i] == 1:\n",
    "                newMat[i,j] = 1\n",
    "len(newMat)"
   ]
  },
  {
   "cell_type": "code",
   "execution_count": null,
   "metadata": {
    "collapsed": false
   },
   "outputs": [],
   "source": [
    "# Find indices of columns/rows with all zeros. Nodes not connected anywhere\n",
    "# Delete rows/columns for those countries\n",
    "zeroID = np.where(~newMat.any(axis=0))\n",
    "newMat = np.delete(newMat, zeroID, axis = 0)\n",
    "newMat = np.delete(newMat, zeroID, axis = 1)\n",
    "len(newMat)"
   ]
  },
  {
   "cell_type": "code",
   "execution_count": null,
   "metadata": {
    "collapsed": false
   },
   "outputs": [],
   "source": [
    "# Create a list of names, delete names of countries not connected anywhere\n",
    "names = [i for j, i in enumerate(names) if j not in zeroID]\n",
    "print(len(names))\n",
    "mapping = {i: names[i] for i in range(len(names))}"
   ]
  },
  {
   "cell_type": "code",
   "execution_count": null,
   "metadata": {
    "collapsed": false
   },
   "outputs": [],
   "source": [
    "D = nx.Graph(newMat)"
   ]
  },
  {
   "cell_type": "code",
   "execution_count": null,
   "metadata": {
    "collapsed": false
   },
   "outputs": [],
   "source": [
    "# Calculate betweenness centrality of the graph\n",
    "betCen = nx.betweenness_centrality(D,normalized= True)\n",
    "print betCen[132], mapping[132]\n",
    "fig, pl = plt.subplots()\n",
    "plotDis(betCen,pl)\n",
    "plt.title(\"Betweenness Centrality\")\n",
    "sortInd = sorted(range(len(betCen)),key=lambda i:betCen[i], reverse=True)\n",
    "print [mapping[i] for i in sortInd[:37]], [betCen[i] for i in sortInd[:37]] #Top 20 Betweenness Central countries"
   ]
  },
  {
   "cell_type": "code",
   "execution_count": null,
   "metadata": {
    "collapsed": false
   },
   "outputs": [],
   "source": [
    "# Calculate clustering coefficients\n",
    "clust = nx.clustering(D)\n",
    "fig, pl = plt.subplots()\n",
    "plotDis(clust, pl)\n",
    "plt.title(\"Clustering Coefficient\")\n",
    "sortInd = sorted(range(len(clust)),key=lambda i:clust[i], reverse=True)\n",
    "print [mapping[i] for i in sortInd[:20]], [clust[i] for i in sortInd[:20]] #Top 20 Closenss Central countries"
   ]
  },
  {
   "cell_type": "code",
   "execution_count": null,
   "metadata": {
    "collapsed": false
   },
   "outputs": [],
   "source": [
    "assort = nx.degree_assortativity_coefficient(D)\n",
    "assort"
   ]
  },
  {
   "cell_type": "code",
   "execution_count": null,
   "metadata": {
    "collapsed": false
   },
   "outputs": [],
   "source": [
    "#first compute the best partition\n",
    "import community\n",
    "partition = community.best_partition(D)\n",
    "#drawing\n",
    "size = float(len(set(partition.values())))\n",
    "pos = nx.spring_layout(D)\n",
    "count = 0.\n",
    "for com in set(partition.values()) :\n",
    "    count = count + 1.\n",
    "    list_nodes = [nodes for nodes in partition.keys()\n",
    "                                if partition[nodes] == com]\n",
    "    nx.draw_networkx_nodes(D, pos, list_nodes, node_size = 20,\n",
    "                                node_color = str(count / size))\n",
    "\n",
    "\n",
    "nx.draw_networkx_edges(D,pos, alpha=0.5)\n",
    "#plt.show()"
   ]
  },
  {
   "cell_type": "code",
   "execution_count": null,
   "metadata": {
    "collapsed": false
   },
   "outputs": [],
   "source": [
    "# Number of partitions\n",
    "partitions = len(set(partition.values()))\n",
    "modularity = community.modularity(partition, D)\n",
    "print partitions, modularity"
   ]
  },
  {
   "cell_type": "code",
   "execution_count": null,
   "metadata": {
    "collapsed": false
   },
   "outputs": [],
   "source": [
    "numNodes = len(mapping)\n",
    "numEdges = sum(sum(adjMat))\n",
    "netDensity = (1.*numEdges)/(numNodes*(numNodes-1))"
   ]
  },
  {
   "cell_type": "code",
   "execution_count": null,
   "metadata": {
    "collapsed": false
   },
   "outputs": [],
   "source": [
    "inDegree = adjMat.sum(axis = 0)\n",
    "outDegree = adjMat.sum(axis = 1)\n",
    "totDegree = newMat.sum(axis=1)/2\n",
    "print \"Node Degree (Total) =\", 1.*sum(totDegree)/len(totDegree)\n",
    "print \"Node Degree (In) =\", 1.*sum(inDegree)/len(inDegree)\n",
    "print \"Node Degree (Out) =\", 1.*sum(outDegree)/len(outDegree)"
   ]
  },
  {
   "cell_type": "code",
   "execution_count": null,
   "metadata": {
    "collapsed": false
   },
   "outputs": [],
   "source": [
    "print len(adjMat[1])\n",
    "names = df.columns\n",
    "mapping = {i: names[i] for i in range(len(names))}\n",
    "print len(mapping)\n",
    "sortInd = sorted(range(len(totDegree)),key=lambda i:totDegree[i], reverse=True)\n",
    "print [mapping[i] for i in sortInd[:20]], [totDegree[i] for i in sortInd[:20]]\n",
    "fig, pl = plt.subplots()\n",
    "plotDis(totDegree, pl)\n",
    "plt.title(\"Node Degree distribution\")"
   ]
  },
  {
   "cell_type": "code",
   "execution_count": null,
   "metadata": {
    "collapsed": false
   },
   "outputs": [],
   "source": [
    "# Weighted Adjacency Matrix for node strength distribution\n",
    "adjMatWt = df2.as_matrix()\n",
    "zeroID = np.where(~adjMatWt.any(axis=0))[0]\n",
    "adjMatWt = np.delete(adjMatWt, zeroID, axis=0)\n",
    "adjMatWt = np.delete(adjMatWt, zeroID, axis=1)\n",
    "names = df2.columns\n",
    "names = [i for j, i in enumerate(names) if j not in zeroID]\n",
    "print names\n",
    "mapping = {i: names[i] for i in range(len(names))}"
   ]
  },
  {
   "cell_type": "code",
   "execution_count": null,
   "metadata": {
    "collapsed": false
   },
   "outputs": [],
   "source": [
    "inStr = adjMatWt.sum(axis = 0)\n",
    "outStr = adjMatWt.sum(axis = 1)\n",
    "totStr = inStr + outStr\n",
    "print len(totStr)\n",
    "print mapping[128]\n",
    "print totStr[131]\n",
    "sortInd = sorted(range(len(totStr)),key=lambda i:totStr[i], reverse=True)\n",
    "print [mapping[i] for i in sortInd[:10]], [totStr[i] for i in sortInd[:20]]\n",
    "fig, pl = plt.subplots()\n",
    "plotDis(totStr, pl)\n",
    "plt.title(\"Node Strength Distribution\")"
   ]
  },
  {
   "cell_type": "code",
   "execution_count": null,
   "metadata": {
    "collapsed": false
   },
   "outputs": [],
   "source": [
    "linkWeight = list(adjMatWt.flat)\n",
    "linkWeight = [x+1 for x in linkWeight]\n",
    "fig, pl = plt.subplots()\n",
    "plotDis(linkWeight, pl)\n",
    "plt.title(\"Link Weight Distribution\")"
   ]
  },
  {
   "cell_type": "code",
   "execution_count": null,
   "metadata": {
    "collapsed": false
   },
   "outputs": [],
   "source": [
    "# Network properties (collect for 14 years)\n",
    "NET_DENSITY.append(netDensity)\n",
    "DEGREE_DIS.append(totDegree)\n",
    "LINK_WEIGHT.append(linkWeight)\n",
    "CLUST_COEFF.append(clust)\n",
    "BET_CENT.append(betCen)\n",
    "ASSORT.append(assort)\n",
    "MODULARITY.append(modularity)\n",
    "PARTITIONS.append(partitions)\n",
    "STRENGTH.append(totStr)"
   ]
  },
  {
   "cell_type": "code",
   "execution_count": null,
   "metadata": {
    "collapsed": false
   },
   "outputs": [],
   "source": [
    "NET_DENSITY=[np.array(x).tolist() for x in NET_DENSITY]\n",
    "DEGREE_DIS = [x.tolist() for x in DEGREE_DIS]\n",
    "STRENGTH = [x.tolist() for x in STRENGTH]\n",
    "All = [NET_DENSITY, DEGREE_DIS, LINK_WEIGHT, CLUST_COEFF, BET_CENT, ASSORT, MODULARITY, PARTITIONS,STRENGTH]"
   ]
  },
  {
   "cell_type": "code",
   "execution_count": null,
   "metadata": {
    "collapsed": false
   },
   "outputs": [],
   "source": [
    "#parts = [[mapping[i] for i,j in partition.items() if j==k] for k in set(partition.values())]"
   ]
  },
  {
   "cell_type": "code",
   "execution_count": null,
   "metadata": {
    "collapsed": false
   },
   "outputs": [],
   "source": [
    "print (len(NET_DENSITY), len(DEGREE_DIS), len(LINK_WEIGHT), len(CLUST_COEFF), len(BET_CENT), len(ASSORT), \n",
    "         len(MODULARITY), len(PARTITIONS))"
   ]
  },
  {
   "cell_type": "code",
   "execution_count": null,
   "metadata": {
    "collapsed": false
   },
   "outputs": [],
   "source": [
    "# save data in json format, for plotting in ggplot\n",
    "out = '../../g6.txt'\n",
    "with open(out, 'w') as outfile:\n",
    "    json.dump(All, outfile)"
   ]
  }
 ],
 "metadata": {
  "kernelspec": {
   "display_name": "Python 2",
   "language": "python",
   "name": "python2"
  },
  "language_info": {
   "codemirror_mode": {
    "name": "ipython",
    "version": 2
   },
   "file_extension": ".py",
   "mimetype": "text/x-python",
   "name": "python",
   "nbconvert_exporter": "python",
   "pygments_lexer": "ipython2",
   "version": "2.7.6"
  }
 },
 "nbformat": 4,
 "nbformat_minor": 0
}
